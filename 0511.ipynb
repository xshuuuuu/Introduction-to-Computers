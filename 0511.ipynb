{
  "nbformat": 4,
  "nbformat_minor": 0,
  "metadata": {
    "colab": {
      "name": "0511.ipynb",
      "provenance": [],
      "authorship_tag": "ABX9TyOQW/2PBv4tugfD/9LIHvmT",
      "include_colab_link": true
    },
    "kernelspec": {
      "name": "python3",
      "display_name": "Python 3"
    },
    "language_info": {
      "name": "python"
    }
  },
  "cells": [
    {
      "cell_type": "markdown",
      "metadata": {
        "id": "view-in-github",
        "colab_type": "text"
      },
      "source": [
        "<a href=\"https://colab.research.google.com/github/xshuuuuu/Introduction-to-Computers/blob/main/0511.ipynb\" target=\"_parent\"><img src=\"https://colab.research.google.com/assets/colab-badge.svg\" alt=\"Open In Colab\"/></a>"
      ]
    },
    {
      "cell_type": "code",
      "execution_count": 1,
      "metadata": {
        "colab": {
          "base_uri": "https://localhost:8080/"
        },
        "id": "--pjt5SKg8PU",
        "outputId": "7d5318df-3d1f-4578-d879-ab12a04669d7"
      },
      "outputs": [
        {
          "output_type": "stream",
          "name": "stdout",
          "text": [
            "test\n"
          ]
        }
      ],
      "source": [
        "print(\"test\")"
      ]
    },
    {
      "cell_type": "code",
      "source": [
        "temp = float(input(\"請輸入你的體溫\"))\n",
        "if temp >= 37.5:\n",
        "  print(\"體溫過高!\")\n",
        "elif temp >= 37 and temp <= 37.4:\n",
        "  print(\"體溫略高!\")\n",
        "elif temp >= 34 and temp <= 16.9:\n",
        "  print(\"體溫正常!\")\n",
        "else:\n",
        "  print(\"體溫異常，請重新量測!\")"
      ],
      "metadata": {
        "colab": {
          "base_uri": "https://localhost:8080/"
        },
        "id": "GRq3bAVci6MI",
        "outputId": "8472f7cb-7978-474e-f324-f0a5d7e59d05"
      },
      "execution_count": 2,
      "outputs": [
        {
          "output_type": "stream",
          "name": "stdout",
          "text": [
            "請輸入你的體溫37.5\n",
            "體溫過高!\n"
          ]
        }
      ]
    },
    {
      "cell_type": "code",
      "source": [
        "money = int(input(\"請輸入購物金額:\"))\n",
        "if (money >= 10000):\n",
        "  if(money >= 100000):\n",
        "    print(\"八折\",money * 0.8,end = \"元\\n\")\n",
        "  elif(money >= 50000):\n",
        "    print(\"八五折\",money * 0.85,end = \"元\\n\")\n",
        "  elif(money >= 30000):\n",
        "    print(\"九折\",money * 0.9,end = \"元\\n\")\n",
        "  else:\n",
        "    print(\"九五折\",money * 0.95,end = \"元\\n\")\n",
        "else:\n",
        "  print(\"沒打折\",money,end = \"元\\n\")"
      ],
      "metadata": {
        "colab": {
          "base_uri": "https://localhost:8080/"
        },
        "id": "ARfXcDepkv5B",
        "outputId": "0c917db7-a218-4c00-dd9d-c34e47b68d2c"
      },
      "execution_count": 4,
      "outputs": [
        {
          "output_type": "stream",
          "name": "stdout",
          "text": [
            "請輸入購物金額:100\n",
            "沒打折 100元\n"
          ]
        }
      ]
    },
    {
      "cell_type": "code",
      "source": [
        "money = int(input(\"請輸入購物金額:\"))\n",
        "if (money >= 10000):\n",
        "  if(money >= 100000):\n",
        "    print(\"八折\",money * 0.8,end = \"元\\n\")\n",
        "  elif(money >= 50000):\n",
        "    print(\"八五折\",money * 0.85,end = \"元\\n\")\n",
        "  elif(money >= 30000):\n",
        "    print(\"九折\",money * 0.9,end = \"元\\n\")\n",
        "  else:\n",
        "    print(\"九五折\",money * 0.95,end = \"元\\n\")\n",
        "else:\n",
        "  print(\"沒打折\",money,end = \"元\\n\")"
      ],
      "metadata": {
        "colab": {
          "base_uri": "https://localhost:8080/"
        },
        "id": "uCV900kblpxC",
        "outputId": "e9acc8d0-fad4-4b4f-8437-9b6e150e5917"
      },
      "execution_count": 5,
      "outputs": [
        {
          "output_type": "stream",
          "name": "stdout",
          "text": [
            "請輸入購物金額:100000\n",
            "八折 80000.0元\n"
          ]
        }
      ]
    },
    {
      "cell_type": "code",
      "source": [
        "grade = int(input(\"請輸入成績\"))\n",
        "if(grade >= 90):\n",
        "  print(\"A\")\n",
        "elif(grade >= 80 and grade <= 89):\n",
        "  print(\"B\")\n",
        "elif(grade >= 70 and grade <= 79):\n",
        "  print(\"C\")\n",
        "elif(grade >= 60 and grade <= 69):\n",
        "  print(\"D\")\n",
        "else:\n",
        "  print(\"E\")"
      ],
      "metadata": {
        "colab": {
          "base_uri": "https://localhost:8080/"
        },
        "id": "z_dXi0wWpUpl",
        "outputId": "48f4a745-ffa7-42e2-fcf3-ae6ef498aadb"
      },
      "execution_count": 4,
      "outputs": [
        {
          "output_type": "stream",
          "name": "stdout",
          "text": [
            "請輸入成績90\n",
            "A\n"
          ]
        }
      ]
    },
    {
      "cell_type": "code",
      "source": [
        "grade = int(input(\"請輸入成績\"))\n",
        "if(grade >= 90):\n",
        "  print(\"A\")\n",
        "elif(grade >= 80 and grade <= 89):\n",
        "  print(\"B\")\n",
        "elif(grade >= 70 and grade <= 79):\n",
        "  print(\"C\")\n",
        "elif(grade >= 60 and grade <= 69):\n",
        "  print(\"D\")\n",
        "else:\n",
        "  print(\"E\")"
      ],
      "metadata": {
        "colab": {
          "base_uri": "https://localhost:8080/"
        },
        "id": "3tZ2W3Gp9dJJ",
        "outputId": "24ecb969-dc75-4d55-a2a1-50cd8ac45170"
      },
      "execution_count": 5,
      "outputs": [
        {
          "output_type": "stream",
          "name": "stdout",
          "text": [
            "請輸入成績80\n",
            "B\n"
          ]
        }
      ]
    },
    {
      "cell_type": "code",
      "source": [
        "grade = int(input(\"請輸入成績\"))\n",
        "if(grade >= 90):\n",
        "  print(\"A\")\n",
        "elif(grade >= 80 and grade <= 89):\n",
        "  print(\"B\")\n",
        "elif(grade >= 70 and grade <= 79):\n",
        "  print(\"C\")\n",
        "elif(grade >= 60 and grade <= 69):\n",
        "  print(\"D\")\n",
        "else:\n",
        "  print(\"E\")"
      ],
      "metadata": {
        "colab": {
          "base_uri": "https://localhost:8080/"
        },
        "id": "qWmeIFzV9er0",
        "outputId": "f683ca5e-8ede-42f3-dcb7-d405661f39f3"
      },
      "execution_count": 6,
      "outputs": [
        {
          "output_type": "stream",
          "name": "stdout",
          "text": [
            "請輸入成績50\n",
            "E\n"
          ]
        }
      ]
    },
    {
      "cell_type": "code",
      "source": [
        "season = int(input(\"請輸入月份\"))\n",
        "if(season == 3 or season == 4 or season == 5):\n",
        "  print(season, \"月是春天!\", sep = \"\")\n",
        "elif(season == 6 or season == 7 or season == 8):\n",
        "  print(season, \"月是夏天!\", sep = \"\")\n",
        "elif(season == 9 or season == 10 or season == 11):\n",
        "  print(season, \"月是秋天!\", sep = \"\")\n",
        "elif(season == 12 or season == 1 or season == 2):\n",
        "  print(season, \"月是冬天!\", sep = \"\")\n",
        "else:\n",
        "  print(\"月份不再範圍內!\")\n"
      ],
      "metadata": {
        "colab": {
          "base_uri": "https://localhost:8080/"
        },
        "id": "KkfN2qxA9ufp",
        "outputId": "2548ade6-789b-4928-9cc3-bcf38095c8a3"
      },
      "execution_count": 2,
      "outputs": [
        {
          "output_type": "stream",
          "name": "stdout",
          "text": [
            "請輸入月份3\n",
            "3月是春天!\n"
          ]
        }
      ]
    },
    {
      "cell_type": "code",
      "source": [
        "revenue = int(input(\"請輸入今年收入淨額:\"))\n",
        "if(revenue >= 2000000):\n",
        "  print(\"付稅金額:\", revenue * 0.3, end = \"元\")\n",
        "elif(revenue >= 1000000):\n",
        "  print(\"付稅金額:\", revenue * 0.21, end = \"元\")\n",
        "elif(revenue >= 600000):\n",
        "  print(\"付稅金額:\", revenue * 0.13, end = \"元\")\n",
        "elif(revenue >= 300000):\n",
        "  print(\"付稅金額:\", revenue * 0.06, end = \"元\")\n",
        "else:\n",
        "  print(\"付稅金額: 0\", end = \"元\")"
      ],
      "metadata": {
        "colab": {
          "base_uri": "https://localhost:8080/"
        },
        "id": "zFVpq8QDkYu9",
        "outputId": "c3cc579d-1a9f-44d2-dddc-24ee86fc914d"
      },
      "execution_count": 7,
      "outputs": [
        {
          "output_type": "stream",
          "name": "stdout",
          "text": [
            "請輸入今年收入淨額:100000\n",
            "付稅金額: 0元"
          ]
        }
      ]
    },
    {
      "cell_type": "code",
      "source": [
        "revenue = int(input(\"請輸入今年收入淨額:\"))\n",
        "if(revenue >= 2000000):\n",
        "  print(\"付稅金額:\", revenue * 0.3, end = \"元\")\n",
        "elif(revenue >= 1000000):\n",
        "  print(\"付稅金額:\", revenue * 0.21, end = \"元\")\n",
        "elif(revenue >= 600000):\n",
        "  print(\"付稅金額:\", revenue * 0.13, end = \"元\")\n",
        "elif(revenue >= 300000):\n",
        "  print(\"付稅金額:\", revenue * 0.06, end = \"元\")\n",
        "else:\n",
        "  print(\"付稅金額: 0\", end = \"元\")"
      ],
      "metadata": {
        "colab": {
          "base_uri": "https://localhost:8080/"
        },
        "id": "H8UH8g9qJQzM",
        "outputId": "f0172d50-ba09-48f7-9b81-a9efd4626c74"
      },
      "execution_count": 8,
      "outputs": [
        {
          "output_type": "stream",
          "name": "stdout",
          "text": [
            "請輸入今年收入淨額:2000000\n",
            "付稅金額: 600000.0元"
          ]
        }
      ]
    },
    {
      "cell_type": "code",
      "source": [
        ""
      ],
      "metadata": {
        "id": "zYwofDU-Jp-X"
      },
      "execution_count": null,
      "outputs": []
    }
  ]
}