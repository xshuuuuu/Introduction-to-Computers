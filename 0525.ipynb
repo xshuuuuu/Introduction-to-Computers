{
  "nbformat": 4,
  "nbformat_minor": 0,
  "metadata": {
    "colab": {
      "name": "0525.ipynb",
      "provenance": [],
      "authorship_tag": "ABX9TyNj7o1vPFKGxlu71qHvTI7S",
      "include_colab_link": true
    },
    "kernelspec": {
      "name": "python3",
      "display_name": "Python 3"
    },
    "language_info": {
      "name": "python"
    }
  },
  "cells": [
    {
      "cell_type": "markdown",
      "metadata": {
        "id": "view-in-github",
        "colab_type": "text"
      },
      "source": [
        "<a href=\"https://colab.research.google.com/github/xshuuuuu/Introduction-to-Computers/blob/main/0525.ipynb\" target=\"_parent\"><img src=\"https://colab.research.google.com/assets/colab-badge.svg\" alt=\"Open In Colab\"/></a>"
      ]
    },
    {
      "cell_type": "code",
      "execution_count": 1,
      "metadata": {
        "colab": {
          "base_uri": "https://localhost:8080/"
        },
        "id": "KWlzDZ0KmWiv",
        "outputId": "b860e168-3170-41e9-d289-95b882c7579a"
      },
      "outputs": [
        {
          "output_type": "stream",
          "name": "stdout",
          "text": [
            "test\n"
          ]
        }
      ],
      "source": [
        "print(\"test\")"
      ]
    },
    {
      "cell_type": "code",
      "source": [
        "sum = 0\n",
        "test = int(input(\"請輸入一個正整數: \"))\n",
        "for n in range(1, test+1):\n",
        "  sum = sum+n\n",
        "print(\"1到\",test,\"的整數和為\",sum)"
      ],
      "metadata": {
        "colab": {
          "base_uri": "https://localhost:8080/"
        },
        "id": "0wMZ_nKamiXh",
        "outputId": "9b460631-7b31-4d50-942c-0e9965b122c8"
      },
      "execution_count": 2,
      "outputs": [
        {
          "output_type": "stream",
          "name": "stdout",
          "text": [
            "請輸入一個正整數: 50\n",
            "1到 50 的整數和為 1275\n"
          ]
        }
      ]
    },
    {
      "cell_type": "code",
      "source": [
        "sum = 0\n",
        "test = int(input(\"請輸入一個正整數: \"))\n",
        "for m in range(1, test+1 ):\n",
        "  sum = sum+m\n",
        "  print(\"1到\"+str(m)+\"的整數和為: \",sum)"
      ],
      "metadata": {
        "colab": {
          "base_uri": "https://localhost:8080/"
        },
        "id": "_rpS2vq6nqVd",
        "outputId": "0f2cf519-2ce3-4d99-b8f3-a452db036575"
      },
      "execution_count": 3,
      "outputs": [
        {
          "output_type": "stream",
          "name": "stdout",
          "text": [
            "請輸入一個正整數: 50\n",
            "1到1的整數和為:  1\n",
            "1到2的整數和為:  3\n",
            "1到3的整數和為:  6\n",
            "1到4的整數和為:  10\n",
            "1到5的整數和為:  15\n",
            "1到6的整數和為:  21\n",
            "1到7的整數和為:  28\n",
            "1到8的整數和為:  36\n",
            "1到9的整數和為:  45\n",
            "1到10的整數和為:  55\n",
            "1到11的整數和為:  66\n",
            "1到12的整數和為:  78\n",
            "1到13的整數和為:  91\n",
            "1到14的整數和為:  105\n",
            "1到15的整數和為:  120\n",
            "1到16的整數和為:  136\n",
            "1到17的整數和為:  153\n",
            "1到18的整數和為:  171\n",
            "1到19的整數和為:  190\n",
            "1到20的整數和為:  210\n",
            "1到21的整數和為:  231\n",
            "1到22的整數和為:  253\n",
            "1到23的整數和為:  276\n",
            "1到24的整數和為:  300\n",
            "1到25的整數和為:  325\n",
            "1到26的整數和為:  351\n",
            "1到27的整數和為:  378\n",
            "1到28的整數和為:  406\n",
            "1到29的整數和為:  435\n",
            "1到30的整數和為:  465\n",
            "1到31的整數和為:  496\n",
            "1到32的整數和為:  528\n",
            "1到33的整數和為:  561\n",
            "1到34的整數和為:  595\n",
            "1到35的整數和為:  630\n",
            "1到36的整數和為:  666\n",
            "1到37的整數和為:  703\n",
            "1到38的整數和為:  741\n",
            "1到39的整數和為:  780\n",
            "1到40的整數和為:  820\n",
            "1到41的整數和為:  861\n",
            "1到42的整數和為:  903\n",
            "1到43的整數和為:  946\n",
            "1到44的整數和為:  990\n",
            "1到45的整數和為:  1035\n",
            "1到46的整數和為:  1081\n",
            "1到47的整數和為:  1128\n",
            "1到48的整數和為:  1176\n",
            "1到49的整數和為:  1225\n",
            "1到50的整數和為:  1275\n"
          ]
        }
      ]
    },
    {
      "cell_type": "code",
      "source": [
        "for j in range(1,5):\n",
        "  print(j)\n",
        "  for i in range(1,3):\n",
        "    k = i*j\n",
        "    print(j,\"*\",\"=\",k)"
      ],
      "metadata": {
        "colab": {
          "base_uri": "https://localhost:8080/"
        },
        "id": "rgjbeKQQoE_2",
        "outputId": "4936df3f-5b05-423b-905e-e3a5f2b4c8a7"
      },
      "execution_count": 15,
      "outputs": [
        {
          "output_type": "stream",
          "name": "stdout",
          "text": [
            "1\n",
            "1 * = 1\n",
            "1 * = 2\n",
            "2\n",
            "2 * = 2\n",
            "2 * = 4\n",
            "3\n",
            "3 * = 3\n",
            "3 * = 6\n",
            "4\n",
            "4 * = 4\n",
            "4 * = 8\n"
          ]
        }
      ]
    },
    {
      "cell_type": "code",
      "source": [
        "for j in range(1,6):\n",
        "  print(j)\n",
        "  for i in range(1,3):\n",
        "    k = i*(j)\n",
        "    print(j,\"*\",\"=\",k)"
      ],
      "metadata": {
        "colab": {
          "base_uri": "https://localhost:8080/"
        },
        "id": "FeYBabp8ojju",
        "outputId": "48cf5bc1-a68a-4453-fd6b-63e18f6ad229"
      },
      "execution_count": 16,
      "outputs": [
        {
          "output_type": "stream",
          "name": "stdout",
          "text": [
            "1\n",
            "1 * = 1\n",
            "1 * = 2\n",
            "2\n",
            "2 * = 2\n",
            "2 * = 4\n",
            "3\n",
            "3 * = 3\n",
            "3 * = 6\n",
            "4\n",
            "4 * = 4\n",
            "4 * = 8\n",
            "5\n",
            "5 * = 5\n",
            "5 * = 10\n"
          ]
        }
      ]
    },
    {
      "cell_type": "code",
      "source": [
        "for i in range(1,5):\n",
        "  if(i==3):\n",
        "    break\n",
        "  print(i, end = \" \")"
      ],
      "metadata": {
        "colab": {
          "base_uri": "https://localhost:8080/"
        },
        "id": "bS2_WfvbpFLl",
        "outputId": "7ae78eb8-594d-40b4-d1e8-43fb435382f3"
      },
      "execution_count": 8,
      "outputs": [
        {
          "output_type": "stream",
          "name": "stdout",
          "text": [
            "1 2 "
          ]
        }
      ]
    },
    {
      "cell_type": "code",
      "source": [
        "count = 0\n",
        "for string in \"hello!\":\n",
        "  count+=1\n",
        "  if string == \"o\":\n",
        "    break\n",
        "  print(string)\n",
        "print(\"迴圈結束\")\n",
        "print(\"迴圈執行了 %d 次\" %count)"
      ],
      "metadata": {
        "colab": {
          "base_uri": "https://localhost:8080/"
        },
        "id": "xtUDm8sjqEZR",
        "outputId": "06129be1-141f-4b14-ccbb-f39cbbe83ff4"
      },
      "execution_count": 12,
      "outputs": [
        {
          "output_type": "stream",
          "name": "stdout",
          "text": [
            "h\n",
            "e\n",
            "l\n",
            "l\n",
            "迴圈結束\n",
            "迴圈執行了 5 次\n"
          ]
        }
      ]
    },
    {
      "cell_type": "code",
      "source": [
        "count = 0\n",
        "for string in \"測試看看!\":\n",
        "  count+=1\n",
        "  if string == \"看\":\n",
        "    break\n",
        "  print(string)\n",
        "print(\"迴圈結束\")\n",
        "print(\"迴圈執行了 %d 次\" %count)"
      ],
      "metadata": {
        "colab": {
          "base_uri": "https://localhost:8080/"
        },
        "id": "OorGwiIVrAGn",
        "outputId": "4ff1b831-1401-4322-debe-2d860c0f2ea7"
      },
      "execution_count": 13,
      "outputs": [
        {
          "output_type": "stream",
          "name": "stdout",
          "text": [
            "測\n",
            "試\n",
            "迴圈結束\n",
            "迴圈執行了 3 次\n"
          ]
        }
      ]
    },
    {
      "cell_type": "code",
      "source": [
        "for i in range(2,10):\n",
        "  for j in range(1,10):\n",
        "    k = i*j\n",
        "    print(i,\"*\",j,\"=\",k,\"\\t\",end = \"\")\n",
        "  print()"
      ],
      "metadata": {
        "colab": {
          "base_uri": "https://localhost:8080/"
        },
        "id": "9R59kWbqsAz0",
        "outputId": "5ce162f0-5290-4203-902c-8287e8e4f4f8"
      },
      "execution_count": 33,
      "outputs": [
        {
          "output_type": "stream",
          "name": "stdout",
          "text": [
            "2 * 1 = 2 \t2 * 2 = 4 \t2 * 3 = 6 \t2 * 4 = 8 \t2 * 5 = 10 \t2 * 6 = 12 \t2 * 7 = 14 \t2 * 8 = 16 \t2 * 9 = 18 \t\n",
            "3 * 1 = 3 \t3 * 2 = 6 \t3 * 3 = 9 \t3 * 4 = 12 \t3 * 5 = 15 \t3 * 6 = 18 \t3 * 7 = 21 \t3 * 8 = 24 \t3 * 9 = 27 \t\n",
            "4 * 1 = 4 \t4 * 2 = 8 \t4 * 3 = 12 \t4 * 4 = 16 \t4 * 5 = 20 \t4 * 6 = 24 \t4 * 7 = 28 \t4 * 8 = 32 \t4 * 9 = 36 \t\n",
            "5 * 1 = 5 \t5 * 2 = 10 \t5 * 3 = 15 \t5 * 4 = 20 \t5 * 5 = 25 \t5 * 6 = 30 \t5 * 7 = 35 \t5 * 8 = 40 \t5 * 9 = 45 \t\n",
            "6 * 1 = 6 \t6 * 2 = 12 \t6 * 3 = 18 \t6 * 4 = 24 \t6 * 5 = 30 \t6 * 6 = 36 \t6 * 7 = 42 \t6 * 8 = 48 \t6 * 9 = 54 \t\n",
            "7 * 1 = 7 \t7 * 2 = 14 \t7 * 3 = 21 \t7 * 4 = 28 \t7 * 5 = 35 \t7 * 6 = 42 \t7 * 7 = 49 \t7 * 8 = 56 \t7 * 9 = 63 \t\n",
            "8 * 1 = 8 \t8 * 2 = 16 \t8 * 3 = 24 \t8 * 4 = 32 \t8 * 5 = 40 \t8 * 6 = 48 \t8 * 7 = 56 \t8 * 8 = 64 \t8 * 9 = 72 \t\n",
            "9 * 1 = 9 \t9 * 2 = 18 \t9 * 3 = 27 \t9 * 4 = 36 \t9 * 5 = 45 \t9 * 6 = 54 \t9 * 7 = 63 \t9 * 8 = 72 \t9 * 9 = 81 \t\n"
          ]
        }
      ]
    },
    {
      "cell_type": "code",
      "source": [
        "a = int(input(\"請輸入 a 的值:\"))\n",
        "print()\n",
        "b = int(input(\"請輸入 b 的值:\"))\n",
        "for i in range(1,(a*b)+1):\n",
        "  if(i%a == 0 and i%b == 0):\n",
        "    break\n",
        "print(a,\"和\",b,\"的最小公倍數=\",i) "
      ],
      "metadata": {
        "colab": {
          "base_uri": "https://localhost:8080/"
        },
        "id": "hqb1lNLgvDlE",
        "outputId": "8d7c0b05-f539-42fb-9178-dcf6802819cb"
      },
      "execution_count": 44,
      "outputs": [
        {
          "output_type": "stream",
          "name": "stdout",
          "text": [
            "請輸入 a 的值:4\n",
            "\n",
            "請輸入 b 的值:6\n",
            "4 和 6 的最小公倍數= 12\n"
          ]
        }
      ]
    },
    {
      "cell_type": "code",
      "source": [
        "a = int(input(\"請輸入 a 的值:\"))\n",
        "print()\n",
        "b = int(input(\"請輸入 b 的值:\"))\n",
        "for i in range(1,(a*b)+1):\n",
        "  if(i%a == 0 and i%b == 0):\n",
        "    break\n",
        "print(a,\"和\",b,\"的最小公倍數=\",i) "
      ],
      "metadata": {
        "colab": {
          "base_uri": "https://localhost:8080/"
        },
        "id": "FswOo-ZM7HgY",
        "outputId": "b97d1594-b8bb-4e9e-a57e-6bb53a5cf4eb"
      },
      "execution_count": 45,
      "outputs": [
        {
          "output_type": "stream",
          "name": "stdout",
          "text": [
            "請輸入 a 的值:9\n",
            "\n",
            "請輸入 b 的值:15\n",
            "9 和 15 的最小公倍數= 45\n"
          ]
        }
      ]
    },
    {
      "cell_type": "code",
      "source": [
        "n = int(input(\"請輸入正整數:\"))\n",
        "for i in range(1,n+1):\n",
        "  if(i%5 == 0):\n",
        "    continue\n",
        "  print(i,end = \" \")"
      ],
      "metadata": {
        "colab": {
          "base_uri": "https://localhost:8080/"
        },
        "id": "COCNtViT-u8U",
        "outputId": "c026a191-c309-4741-f33d-690fff3071f4"
      },
      "execution_count": 48,
      "outputs": [
        {
          "output_type": "stream",
          "name": "stdout",
          "text": [
            "請輸入正整數:12\n",
            "1 2 3 4 6 7 8 9 11 12 "
          ]
        }
      ]
    },
    {
      "cell_type": "code",
      "source": [
        "n = int(input(\"請輸入正整數:\"))\n",
        "for i in range(1,n+1):\n",
        "  if(i%5 == 0):\n",
        "    continue\n",
        "  print(i,end = \" \")"
      ],
      "metadata": {
        "colab": {
          "base_uri": "https://localhost:8080/"
        },
        "id": "maqoxwYpAZE0",
        "outputId": "efe10842-65bd-4211-baa3-61dd7b754dd0"
      },
      "execution_count": 49,
      "outputs": [
        {
          "output_type": "stream",
          "name": "stdout",
          "text": [
            "請輸入正整數:21\n",
            "1 2 3 4 6 7 8 9 11 12 13 14 16 17 18 19 21 "
          ]
        }
      ]
    },
    {
      "cell_type": "code",
      "source": [
        ""
      ],
      "metadata": {
        "id": "A_X2_VFFEsdT"
      },
      "execution_count": null,
      "outputs": []
    }
  ]
}